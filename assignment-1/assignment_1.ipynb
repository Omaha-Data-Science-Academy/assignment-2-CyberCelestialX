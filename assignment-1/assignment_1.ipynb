{
  "cells": [
    {
      "cell_type": "markdown",
      "metadata": {
        "application/vnd.databricks.v1+cell": {
          "cellMetadata": {},
          "inputWidgets": {},
          "nuid": "2318e7db-91a5-4923-af2d-4876a8cc030e",
          "showTitle": false,
          "title": ""
        },
        "id": "3xk1kmH0PrLT"
      },
      "source": [
        "# Assignment 1 - Python for Data Science\n",
        "\n",
        "Objective:\n",
        "\n",
        "The purpose of this assignment is to ensure that you are comfortable with Python programming and basic data manipulation using the Pandas library. By the end of this assignment, you should be able to:\n",
        "\n",
        "* Understand Python basics: variables, data types, control structures, functions, and data structures.\n",
        "* Perform basic data manipulation and exploration using Pandas.\n",
        "* Read, filter, sort, and analyze data in a DataFrame.\n",
        "\n",
        "\n",
        "Instructions:\n",
        "\n",
        "Complete each of the tasks below. Download and upload your Jupyter notebook containing your code **and output** along with all answers to your github classroom repository. Add, commit, and push the notebook before the due date."
      ]
    },
    {
      "cell_type": "code",
      "execution_count": 1,
      "metadata": {
        "application/vnd.databricks.v1+cell": {
          "cellMetadata": {
            "byteLimit": 2048000,
            "rowLimit": 10000
          },
          "inputWidgets": {},
          "nuid": "4f762c16-7315-44dc-86e9-fe490baed51b",
          "showTitle": false,
          "title": ""
        },
        "id": "plOWthUzPrLX"
      },
      "outputs": [],
      "source": [
        "import pandas as pd\n",
        "import numpy as np"
      ]
    },
    {
      "cell_type": "code",
      "source": [
        "import matplotlib.pyplot as plt"
      ],
      "metadata": {
        "id": "lYJGHyti4BxT"
      },
      "execution_count": 20,
      "outputs": []
    },
    {
      "cell_type": "markdown",
      "source": [
        "## Part 1: Python Basics (10 points)\n",
        "\n",
        "Variables and Data Types:\n",
        "\n",
        "Define a variable x as the sum of 5 and 10.\n",
        "\n",
        "Print the data type of x."
      ],
      "metadata": {
        "id": "UdMJ6SDxQYkd"
      }
    },
    {
      "cell_type": "code",
      "source": [
        "# Defining the variable x as the sum of 5 and 10\n",
        "x = 5 + 10\n",
        "\n",
        "# Printing the data type of x\n",
        "data_type_of_x = type(x)\n",
        "x, data_type_of_x\n",
        "\n"
      ],
      "metadata": {
        "id": "-by4qOz4QjY3",
        "colab": {
          "base_uri": "https://localhost:8080/"
        },
        "outputId": "9bb2fb5b-aafb-46e9-ae9e-15aeb05009a5"
      },
      "execution_count": 2,
      "outputs": [
        {
          "output_type": "execute_result",
          "data": {
            "text/plain": [
              "(15, int)"
            ]
          },
          "metadata": {},
          "execution_count": 2
        }
      ]
    },
    {
      "cell_type": "markdown",
      "source": [
        "Control Structures:\n",
        "\n",
        "Write a Python function that takes a list of numbers and returns a list of only the even numbers."
      ],
      "metadata": {
        "id": "jjp4xNMEQmOg"
      }
    },
    {
      "cell_type": "code",
      "source": [
        "# Function to return only even numbers from a list\n",
        "def get_even_numbers(numbers):\n",
        "    even_numbers = [num for num in numbers if num % 2 == 0]\n",
        "    return even_numbers\n",
        "\n",
        "# Example list of numbers\n",
        "numbers_list = [1, 2, 3, 4, 5, 6, 7, 8, 9, 10]\n",
        "\n",
        "# Calling the function\n",
        "even_numbers = get_even_numbers(numbers_list)\n",
        "even_numbers\n",
        "\n"
      ],
      "metadata": {
        "id": "5BaO-d9oQk6S",
        "colab": {
          "base_uri": "https://localhost:8080/"
        },
        "outputId": "f3f2b549-26d9-4436-b742-385b0938fe8e"
      },
      "execution_count": 3,
      "outputs": [
        {
          "output_type": "execute_result",
          "data": {
            "text/plain": [
              "[2, 4, 6, 8, 10]"
            ]
          },
          "metadata": {},
          "execution_count": 3
        }
      ]
    },
    {
      "cell_type": "markdown",
      "source": [
        "Functions:\n",
        "\n",
        "Create a function that takes two arguments (length and width) and returns the area of a rectangle.\n",
        "python"
      ],
      "metadata": {
        "id": "a-jyh-s6QszZ"
      }
    },
    {
      "cell_type": "code",
      "source": [
        "# Function to calculate the area of a rectangle\n",
        "def rectangle_area(length, width):\n",
        "    return length * width\n",
        "\n",
        "# Example usage\n",
        "length = 7\n",
        "width = 3\n",
        "area = rectangle_area(length, width)\n",
        "area\n",
        "\n"
      ],
      "metadata": {
        "id": "ph7yawDZQSDL",
        "colab": {
          "base_uri": "https://localhost:8080/"
        },
        "outputId": "d2fec152-481d-4b2b-a2a7-07429ac4f3be"
      },
      "execution_count": 4,
      "outputs": [
        {
          "output_type": "execute_result",
          "data": {
            "text/plain": [
              "21"
            ]
          },
          "metadata": {},
          "execution_count": 4
        }
      ]
    },
    {
      "cell_type": "markdown",
      "metadata": {
        "application/vnd.databricks.v1+cell": {
          "cellMetadata": {},
          "inputWidgets": {},
          "nuid": "b9cf54f3-0158-4765-b294-03fda74f32fc",
          "showTitle": false,
          "title": ""
        },
        "id": "Uepqe3EWPrLY"
      },
      "source": [
        "## Part 2: Introduction to Pandas (55 points)\n",
        "\n",
        "For this assignment you'll be working with the Iris dataset. Read more about the Iris dataset [here](https://www.kaggle.com/datasets/vikrishnan/iris-dataset?resource=download). Your data for this assignment is in iris_data.csv. You may need to read more about the dataset in order to map the variables in the data."
      ]
    },
    {
      "cell_type": "markdown",
      "metadata": {
        "application/vnd.databricks.v1+cell": {
          "cellMetadata": {},
          "inputWidgets": {},
          "nuid": "a04df9c9-127b-409e-943c-5a3e9a43701b",
          "showTitle": false,
          "title": ""
        },
        "id": "kwCOdW1nPrLZ"
      },
      "source": [
        "**Question: What is the Iris dataset?**\n",
        "\n",
        "YOUR ANSWER: The Iris dataset is a famous dataset in machine learning, consisting of 150 samples of iris flowers from three species: Iris setosa, Iris versicolor, and Iris virginica. Each sample contains four features—sepal length, sepal width, petal length, and petal width—used to classify the species."
      ]
    },
    {
      "cell_type": "markdown",
      "metadata": {
        "application/vnd.databricks.v1+cell": {
          "cellMetadata": {},
          "inputWidgets": {},
          "nuid": "3523f56c-5c09-418a-9e0a-8f1d01568667",
          "showTitle": false,
          "title": ""
        },
        "id": "x_4MaOkBPrLZ"
      },
      "source": [
        "Read in the csv file using [DataFrame.read_csv()](https://pandas.pydata.org/docs/reference/api/pandas.read_csv.html)"
      ]
    },
    {
      "cell_type": "code",
      "execution_count": 9,
      "metadata": {
        "application/vnd.databricks.v1+cell": {
          "cellMetadata": {},
          "inputWidgets": {},
          "nuid": "28a8f7e2-1926-4760-aeb7-c425d8098a64",
          "showTitle": false,
          "title": ""
        },
        "id": "RowbVyHjPrLZ"
      },
      "outputs": [],
      "source": [
        "# Define the column names for the dataset\n",
        "column_names = ['sepal_length', 'sepal_width', 'petal_length', 'petal_width', 'species']\n",
        "\n",
        "# Reading in the iris dataset with headers applied\n",
        "iris_data = pd.read_csv('/iris.data.csv', header=None, names=column_names)"
      ]
    },
    {
      "cell_type": "markdown",
      "metadata": {
        "application/vnd.databricks.v1+cell": {
          "cellMetadata": {},
          "inputWidgets": {},
          "nuid": "171cb810-b167-4e8f-8248-78152b4c8e26",
          "showTitle": false,
          "title": ""
        },
        "id": "nd-cLewvPrLa"
      },
      "source": [
        "Look at the first 5 records in the dataset us [DataFrame.head](https://pandas.pydata.org/docs/reference/api/pandas.DataFrame.head.html) and and validate that the proper headers were applied with the read_csv function"
      ]
    },
    {
      "cell_type": "code",
      "execution_count": 10,
      "metadata": {
        "application/vnd.databricks.v1+cell": {
          "cellMetadata": {},
          "inputWidgets": {},
          "nuid": "81a874c5-54a3-464b-83bb-c327f34ab73c",
          "showTitle": false,
          "title": ""
        },
        "id": "xtYcm7i0PrLa",
        "colab": {
          "base_uri": "https://localhost:8080/"
        },
        "outputId": "41ae6987-c27b-46f7-8918-4240ad6afe0d"
      },
      "outputs": [
        {
          "output_type": "stream",
          "name": "stdout",
          "text": [
            "   sepal_length  sepal_width  petal_length  petal_width      species\n",
            "0           5.1          3.5           1.4          0.2  Iris-setosa\n",
            "1           4.9          3.0           1.4          0.2  Iris-setosa\n",
            "2           4.7          3.2           1.3          0.2  Iris-setosa\n",
            "3           4.6          3.1           1.5          0.2  Iris-setosa\n",
            "4           5.0          3.6           1.4          0.2  Iris-setosa\n"
          ]
        }
      ],
      "source": [
        "# Look at the first 5 records\n",
        "print(iris_data.head())\n"
      ]
    },
    {
      "cell_type": "markdown",
      "metadata": {
        "application/vnd.databricks.v1+cell": {
          "cellMetadata": {},
          "inputWidgets": {},
          "nuid": "980769c9-0215-4bbb-b853-bb7aa844c848",
          "showTitle": false,
          "title": ""
        },
        "id": "FAVBI-opPrLb"
      },
      "source": [
        "**Question: How many records are in the dataset?**\n",
        "\n",
        "YOUR ANSWER: There are 150 records in the irs dataset."
      ]
    },
    {
      "cell_type": "code",
      "execution_count": 11,
      "metadata": {
        "application/vnd.databricks.v1+cell": {
          "cellMetadata": {},
          "inputWidgets": {},
          "nuid": "b0e0fbf5-fca7-4d2c-97fa-f73c52bf502c",
          "showTitle": false,
          "title": ""
        },
        "id": "eHM-sITFPrLb",
        "colab": {
          "base_uri": "https://localhost:8080/"
        },
        "outputId": "ec9341b8-5a0e-48e7-ce0f-d7ab13f5ab42"
      },
      "outputs": [
        {
          "output_type": "stream",
          "name": "stdout",
          "text": [
            "The dataset contains 150 records.\n"
          ]
        }
      ],
      "source": [
        "# Get the number of records (rows) in the dataset\n",
        "number_of_records = iris_data.shape[0]\n",
        "\n",
        "# Print the number of records\n",
        "print(f'The dataset contains {number_of_records} records.')\n"
      ]
    },
    {
      "cell_type": "markdown",
      "metadata": {
        "application/vnd.databricks.v1+cell": {
          "cellMetadata": {},
          "inputWidgets": {},
          "nuid": "d2fb01c0-009d-43ce-a038-fc8ca6b91897",
          "showTitle": false,
          "title": ""
        },
        "id": "RgzUos9HPrLb"
      },
      "source": [
        "**Question: How many features are there?**\n",
        "\n",
        "YOUR ANSWER: There are 5 features in the dataset."
      ]
    },
    {
      "cell_type": "code",
      "execution_count": 12,
      "metadata": {
        "application/vnd.databricks.v1+cell": {
          "cellMetadata": {},
          "inputWidgets": {},
          "nuid": "bd16ecd9-05bc-471e-981b-8c71d47994d5",
          "showTitle": false,
          "title": ""
        },
        "id": "mf7dc1ZIPrLb",
        "colab": {
          "base_uri": "https://localhost:8080/"
        },
        "outputId": "f94dc1df-a1bd-465a-f0a8-0adfdb08b928"
      },
      "outputs": [
        {
          "output_type": "stream",
          "name": "stdout",
          "text": [
            "The dataset contains 5 features.\n"
          ]
        }
      ],
      "source": [
        "# Get the number of features (columns) in the dataset\n",
        "number_of_features = iris_data.shape[1]\n",
        "\n",
        "# Print the number of features\n",
        "print(f'The dataset contains {number_of_features} features.')\n"
      ]
    },
    {
      "cell_type": "markdown",
      "metadata": {
        "application/vnd.databricks.v1+cell": {
          "cellMetadata": {},
          "inputWidgets": {},
          "nuid": "f3d5dc98-701b-4349-a5fe-a37175f48d78",
          "showTitle": false,
          "title": ""
        },
        "id": "QPtQRV2VPrLc"
      },
      "source": [
        "**Question: What is the unit of measurement?**\n",
        "\n",
        "YOUR ANSWER: the unit of measurement is in centimeters (cm). Species: is a feature but it is a categorical and does not have a unit of measurement."
      ]
    },
    {
      "cell_type": "markdown",
      "metadata": {
        "application/vnd.databricks.v1+cell": {
          "cellMetadata": {},
          "inputWidgets": {},
          "nuid": "5104ec0e-feca-4999-a0c2-0329e5598d48",
          "showTitle": false,
          "title": ""
        },
        "id": "F9q-36gTPrLc"
      },
      "source": [
        "**Question: What is the target variable?**\n",
        "\n",
        "YOUR ANSWER: the target variable in the dataset is species."
      ]
    },
    {
      "cell_type": "code",
      "execution_count": 13,
      "metadata": {
        "application/vnd.databricks.v1+cell": {
          "cellMetadata": {},
          "inputWidgets": {},
          "nuid": "76d381cd-7a3c-4653-ab82-51bf6ec50be1",
          "showTitle": false,
          "title": ""
        },
        "id": "RMby1q18PrLc",
        "colab": {
          "base_uri": "https://localhost:8080/"
        },
        "outputId": "0b0b1bf9-f3ce-463a-a085-e9238a2cf0e7"
      },
      "outputs": [
        {
          "output_type": "stream",
          "name": "stdout",
          "text": [
            "The target variable in the Iris dataset is: species\n"
          ]
        }
      ],
      "source": [
        "# Identify the target variable\n",
        "target_variable = 'species'\n",
        "\n",
        "# Print the target variable\n",
        "print(f'The target variable in the Iris dataset is: {target_variable}')\n"
      ]
    },
    {
      "cell_type": "markdown",
      "metadata": {
        "application/vnd.databricks.v1+cell": {
          "cellMetadata": {},
          "inputWidgets": {},
          "nuid": "a5cd8cac-6b64-498e-82c0-036a63ebf856",
          "showTitle": false,
          "title": ""
        },
        "id": "YKOVBAfdPrLc"
      },
      "source": [
        "**Question: What type of machine learning problem is this?**\n",
        "\n",
        "YOUR ANSWER: Supervised classification problem in machine learning."
      ]
    },
    {
      "cell_type": "markdown",
      "metadata": {
        "application/vnd.databricks.v1+cell": {
          "cellMetadata": {},
          "inputWidgets": {},
          "nuid": "93108f21-8c7b-4bc6-9ab3-a47895d6f289",
          "showTitle": false,
          "title": ""
        },
        "id": "T62mGqC8PrLc"
      },
      "source": [
        "**Question: How many species are in each class? Is this a well separated dataset?**\n",
        "\n",
        "YOUR ANSWER:"
      ]
    },
    {
      "cell_type": "markdown",
      "metadata": {
        "application/vnd.databricks.v1+cell": {
          "cellMetadata": {},
          "inputWidgets": {},
          "nuid": "c0d74a36-580c-4895-904c-bf7cb10bdaeb",
          "showTitle": false,
          "title": ""
        },
        "id": "DPobBwg-PrLc"
      },
      "source": [
        "**Question: Are there any null values in the data?**\n",
        "\n",
        "YOUR ANSWER: There are no null values in the dataset."
      ]
    },
    {
      "cell_type": "code",
      "execution_count": 14,
      "metadata": {
        "application/vnd.databricks.v1+cell": {
          "cellMetadata": {},
          "inputWidgets": {},
          "nuid": "b2ecf8eb-17a8-47c9-8572-5d86f3640fdf",
          "showTitle": false,
          "title": ""
        },
        "id": "3Y9BUppLPrLc",
        "colab": {
          "base_uri": "https://localhost:8080/"
        },
        "outputId": "87ed1e61-0aee-43d9-a588-843c0a1400d1"
      },
      "outputs": [
        {
          "output_type": "stream",
          "name": "stdout",
          "text": [
            "Number of null values in each column:\n",
            "sepal_length    0\n",
            "sepal_width     0\n",
            "petal_length    0\n",
            "petal_width     0\n",
            "species         0\n",
            "dtype: int64\n"
          ]
        }
      ],
      "source": [
        "# Check for null values in the dataset\n",
        "null_values = iris_data.isnull().sum()\n",
        "\n",
        "# Print the number of null values for each column\n",
        "print(\"Number of null values in each column:\")\n",
        "print(null_values)\n"
      ]
    },
    {
      "cell_type": "markdown",
      "metadata": {
        "application/vnd.databricks.v1+cell": {
          "cellMetadata": {},
          "inputWidgets": {},
          "nuid": "a5a384c0-9464-43c1-8c2b-304884c84cb8",
          "showTitle": false,
          "title": ""
        },
        "id": "moedkCu_PrLd"
      },
      "source": [
        "Run [DataFrame.describe](https://pandas.pydata.org/docs/reference/api/pandas.DataFrame.describe.html).\n",
        "\n",
        "**Question: What is the max value of pedal width? What is the min value of sepal length?**\n",
        "\n",
        "YOUR ANSWER: the max value of petal width: 2.5 and min value of sepal length: 4.3."
      ]
    },
    {
      "cell_type": "code",
      "execution_count": null,
      "metadata": {
        "application/vnd.databricks.v1+cell": {
          "cellMetadata": {},
          "inputWidgets": {},
          "nuid": "dc16f2f8-208d-4080-a4df-7f646bd95c61",
          "showTitle": false,
          "title": ""
        },
        "id": "55XRLoyTPrLd"
      },
      "outputs": [],
      "source": [
        "df.describe()"
      ]
    },
    {
      "cell_type": "markdown",
      "source": [
        "Filtering and Sorting Data:\n",
        "\n",
        "Filter the DataFrame to show only rows where the species is versicolor.\n",
        "\n",
        "Sort the DataFrame by the column \"SepalWidthCm\" in ascending order."
      ],
      "metadata": {
        "id": "phw_vSHmRB_b"
      }
    },
    {
      "cell_type": "code",
      "source": [
        "# Running DataFrame.describe() to get summary statistics\n",
        "description = iris_data.describe()\n",
        "\n",
        "# Extracting the max value of petal width and min value of sepal length\n",
        "max_petal_width = description.loc['max', 'petal_width']\n",
        "min_sepal_length = description.loc['min', 'sepal_length']\n",
        "\n",
        "print(f'Max value of petal width: {max_petal_width}')\n",
        "print(f'Min value of sepal length: {min_sepal_length}')\n"
      ],
      "metadata": {
        "id": "1Q3JUMwYRAMd",
        "colab": {
          "base_uri": "https://localhost:8080/"
        },
        "outputId": "423923b6-4a97-46c5-9470-1c71b51ecd25"
      },
      "execution_count": 15,
      "outputs": [
        {
          "output_type": "stream",
          "name": "stdout",
          "text": [
            "Max value of petal width: 2.5\n",
            "Min value of sepal length: 4.3\n"
          ]
        }
      ]
    },
    {
      "cell_type": "code",
      "source": [
        "# Filter the DataFrame to show only rows where species is 'versicolor'\n",
        "versicolor_data = iris_data[iris_data['species'] == 'Iris-versicolor']\n",
        "\n",
        "# Sort the DataFrame by the column 'sepal_width' in ascending order\n",
        "sorted_versicolor_data = versicolor_data.sort_values(by='sepal_width')\n",
        "\n",
        "# Display the result\n",
        "print(sorted_versicolor_data)"
      ],
      "metadata": {
        "colab": {
          "base_uri": "https://localhost:8080/"
        },
        "id": "QU0D0LL82Li1",
        "outputId": "a252bbb0-c8b9-43bd-83c3-7583ce7e01a6"
      },
      "execution_count": 19,
      "outputs": [
        {
          "output_type": "stream",
          "name": "stdout",
          "text": [
            "    sepal_length  sepal_width  petal_length  petal_width          species\n",
            "60           5.0          2.0           3.5          1.0  Iris-versicolor\n",
            "68           6.2          2.2           4.5          1.5  Iris-versicolor\n",
            "62           6.0          2.2           4.0          1.0  Iris-versicolor\n",
            "53           5.5          2.3           4.0          1.3  Iris-versicolor\n",
            "93           5.0          2.3           3.3          1.0  Iris-versicolor\n",
            "87           6.3          2.3           4.4          1.3  Iris-versicolor\n",
            "81           5.5          2.4           3.7          1.0  Iris-versicolor\n",
            "57           4.9          2.4           3.3          1.0  Iris-versicolor\n",
            "80           5.5          2.4           3.8          1.1  Iris-versicolor\n",
            "89           5.5          2.5           4.0          1.3  Iris-versicolor\n",
            "98           5.1          2.5           3.0          1.1  Iris-versicolor\n",
            "72           6.3          2.5           4.9          1.5  Iris-versicolor\n",
            "69           5.6          2.5           3.9          1.1  Iris-versicolor\n",
            "79           5.7          2.6           3.5          1.0  Iris-versicolor\n",
            "92           5.8          2.6           4.0          1.2  Iris-versicolor\n",
            "90           5.5          2.6           4.4          1.2  Iris-versicolor\n",
            "59           5.2          2.7           3.9          1.4  Iris-versicolor\n",
            "83           6.0          2.7           5.1          1.6  Iris-versicolor\n",
            "67           5.8          2.7           4.1          1.0  Iris-versicolor\n",
            "94           5.6          2.7           4.2          1.3  Iris-versicolor\n",
            "82           5.8          2.7           3.9          1.2  Iris-versicolor\n",
            "55           5.7          2.8           4.5          1.3  Iris-versicolor\n",
            "71           6.1          2.8           4.0          1.3  Iris-versicolor\n",
            "54           6.5          2.8           4.6          1.5  Iris-versicolor\n",
            "73           6.1          2.8           4.7          1.2  Iris-versicolor\n",
            "76           6.8          2.8           4.8          1.4  Iris-versicolor\n",
            "99           5.7          2.8           4.1          1.3  Iris-versicolor\n",
            "96           5.7          2.9           4.2          1.3  Iris-versicolor\n",
            "97           6.2          2.9           4.3          1.3  Iris-versicolor\n",
            "74           6.4          2.9           4.3          1.3  Iris-versicolor\n",
            "64           5.6          2.9           3.6          1.3  Iris-versicolor\n",
            "58           6.6          2.9           4.6          1.3  Iris-versicolor\n",
            "63           6.1          2.9           4.7          1.4  Iris-versicolor\n",
            "78           6.0          2.9           4.5          1.5  Iris-versicolor\n",
            "95           5.7          3.0           4.2          1.2  Iris-versicolor\n",
            "61           5.9          3.0           4.2          1.5  Iris-versicolor\n",
            "91           6.1          3.0           4.6          1.4  Iris-versicolor\n",
            "88           5.6          3.0           4.1          1.3  Iris-versicolor\n",
            "77           6.7          3.0           5.0          1.7  Iris-versicolor\n",
            "84           5.4          3.0           4.5          1.5  Iris-versicolor\n",
            "66           5.6          3.0           4.5          1.5  Iris-versicolor\n",
            "75           6.6          3.0           4.4          1.4  Iris-versicolor\n",
            "86           6.7          3.1           4.7          1.5  Iris-versicolor\n",
            "52           6.9          3.1           4.9          1.5  Iris-versicolor\n",
            "65           6.7          3.1           4.4          1.4  Iris-versicolor\n",
            "70           5.9          3.2           4.8          1.8  Iris-versicolor\n",
            "51           6.4          3.2           4.5          1.5  Iris-versicolor\n",
            "50           7.0          3.2           4.7          1.4  Iris-versicolor\n",
            "56           6.3          3.3           4.7          1.6  Iris-versicolor\n",
            "85           6.0          3.4           4.5          1.6  Iris-versicolor\n"
          ]
        }
      ]
    },
    {
      "cell_type": "markdown",
      "metadata": {
        "application/vnd.databricks.v1+cell": {
          "cellMetadata": {},
          "inputWidgets": {},
          "nuid": "6fabb908-8e25-4791-a32c-234ed93d52d3",
          "showTitle": false,
          "title": ""
        },
        "id": "tEdq_zaPPrLd"
      },
      "source": [
        "Plotting a dataset is a great way to explore its distribution. Plotting the iris dataset can be done using matplotlib, a Python library for 2D plotting."
      ]
    },
    {
      "cell_type": "code",
      "execution_count": 21,
      "metadata": {
        "application/vnd.databricks.v1+cell": {
          "cellMetadata": {},
          "inputWidgets": {},
          "nuid": "2a928e97-eb51-4ff9-875f-f059b2f43262",
          "showTitle": false,
          "title": ""
        },
        "id": "UPoJF57OPrLd",
        "colab": {
          "base_uri": "https://localhost:8080/",
          "height": 564
        },
        "outputId": "b213c211-30ab-48cf-e0b3-19002057fe3b"
      },
      "outputs": [
        {
          "output_type": "display_data",
          "data": {
            "text/plain": [
              "<Figure size 1000x600 with 1 Axes>"
            ],
            "image/png": "[encoded data removed]"
          },
          "metadata": {}
        }
      ],
      "source": [
        "# Create a scatter plot\n",
        "plt.figure(figsize=(10, 6))\n",
        "\n",
        "# Plotting each species with a different color\n",
        "for species in iris_data['species'].unique():\n",
        "    subset = iris_data[iris_data['species'] == species]\n",
        "    plt.scatter(subset['sepal_length'], subset['sepal_width'], label=species)\n",
        "\n",
        "# Adding labels and title\n",
        "plt.title('Sepal Length vs Sepal Width')\n",
        "plt.xlabel('Sepal Length (cm)')\n",
        "plt.ylabel('Sepal Width (cm)')\n",
        "plt.legend()\n",
        "plt.grid()\n",
        "\n",
        "# Show the plot\n",
        "plt.show()\n"
      ]
    },
    {
      "cell_type": "markdown",
      "metadata": {
        "application/vnd.databricks.v1+cell": {
          "cellMetadata": {},
          "inputWidgets": {},
          "nuid": "5c51ce69-5f74-4d4d-9c66-24bff0797005",
          "showTitle": false,
          "title": ""
        },
        "id": "_9-jAlWnPrLd"
      },
      "source": [
        "**Question: What are your thoughts on how we might measure success on this problem (i.e. a model that predicts the target labels)?**\n",
        "\n",
        "YOUR ANSWER: Measuring the success of a model that predicts the target labels in the Iris dataset involves evaluating its performance using various metrics such as Accuracy, confusion matrix, precision, recall and F1-Score, Cross-validation, ROC-AUC curve and model interpretability."
      ]
    },
    {
      "cell_type": "markdown",
      "metadata": {
        "application/vnd.databricks.v1+cell": {
          "cellMetadata": {},
          "inputWidgets": {},
          "nuid": "54f6f099-a032-4bc5-9172-c8997cb6b0d4",
          "showTitle": false,
          "title": ""
        },
        "id": "xbCRG2-uUKCT"
      },
      "source": [
        "---\n",
        "## Part 3: Supervised Learning\n",
        "Supervised learning is all about learning to make predictions: given an input $x$ (e.g. home square footage), can we produce an output $\\hat{y}$ (e.g. estimated value) as close to the actual observed output $y$ (e.g. sale price) as possible. Note that the \"hat\" above $y$ is used to denote an estimated or predicted value.\n",
        "\n",
        "Let's start by generating some artificial data. We'll create a vector of inputs, $X$, and a corresponding vector of target outputs $Y$. In general, we'll refer to invidual examples with a lowercase ($x$), and a vector or matrix containing multiple examples with a capital ($X$)."
      ]
    },
    {
      "cell_type": "code",
      "execution_count": 22,
      "metadata": {
        "application/vnd.databricks.v1+cell": {
          "cellMetadata": {},
          "inputWidgets": {},
          "nuid": "9b1562c7-2ccb-46b4-8b25-83d70fa1f99e",
          "showTitle": false,
          "title": ""
        },
        "id": "kfAJ0UMGPrLd"
      },
      "outputs": [],
      "source": [
        "import numpy as np\n",
        "import matplotlib.pyplot as plt"
      ]
    },
    {
      "cell_type": "markdown",
      "metadata": {
        "application/vnd.databricks.v1+cell": {
          "cellMetadata": {},
          "inputWidgets": {},
          "nuid": "126337ce-24bd-44e5-bec8-f7a593a0f967",
          "showTitle": false,
          "title": ""
        },
        "id": "-UrBnanaPrLe"
      },
      "source": [
        "### Generating a Known Function (15 points)\n",
        "\n",
        "Implement variable Y as:\n",
        "\n",
        "$Y = m*X + b + variance$"
      ]
    },
    {
      "cell_type": "code",
      "execution_count": 28,
      "metadata": {
        "application/vnd.databricks.v1+cell": {
          "cellMetadata": {
            "byteLimit": 2048000,
            "rowLimit": 10000
          },
          "inputWidgets": {},
          "nuid": "de520632-34cc-4376-b327-da5017a792de",
          "showTitle": false,
          "title": ""
        },
        "id": "Ulmn_bFdU87t"
      },
      "outputs": [],
      "source": [
        "def create_1d_data(num_examples=10, m=2, b=1, random_scale=1):\n",
        "    \"\"\"Create X, Y data with a linear relationship with added noise.\n",
        "\n",
        "    Args:\n",
        "    num_examples: number of examples to generate\n",
        "    w: desired slope\n",
        "    b: desired intercept\n",
        "    random_scale: add uniform noise between -random_scale and +random_scale\n",
        "\n",
        "    Returns:\n",
        "    X and Y with shape (num_examples)\n",
        "    \"\"\"\n",
        "    X = np.arange(num_examples)\n",
        "    np.random.seed(4)  # consistent random number generation\n",
        "    random_variance = np.random.uniform(low=-random_scale, high=random_scale, size=X.shape)\n",
        "    # TODO: build Y = mx + b + random_variance\n",
        "\n",
        "# Calculate Y using the formula Y = m*X + b + random_variance\n",
        "    Y = m * X + b + random_variance\n",
        "\n",
        "    return X, Y"
      ]
    },
    {
      "cell_type": "code",
      "execution_count": 29,
      "metadata": {
        "application/vnd.databricks.v1+cell": {
          "cellMetadata": {
            "byteLimit": 2048000,
            "rowLimit": 10000
          },
          "inputWidgets": {},
          "nuid": "c84b7c2d-4336-485d-90cc-478b40458e55",
          "showTitle": false,
          "title": ""
        },
        "id": "6qJg0IiYVJ8U",
        "outputId": "370415a6-928f-4ee8-f97c-c150bca2dad9",
        "colab": {
          "base_uri": "https://localhost:8080/",
          "height": 472
        }
      },
      "outputs": [
        {
          "output_type": "display_data",
          "data": {
            "text/plain": [
              "<Figure size 640x480 with 1 Axes>"
            ],
            "image/png": "[encoded data removed]"
          },
          "metadata": {}
        }
      ],
      "source": [
        "# Create some artificial data using create_1d_data.\n",
        "X, Y = create_1d_data()\n",
        "plt.scatter(X, Y)\n",
        "plt.title('Scatter Plot of Artificial Data')\n",
        "plt.xlabel('X')\n",
        "plt.ylabel('Y')\n",
        "plt.show()"
      ]
    },
    {
      "cell_type": "markdown",
      "metadata": {
        "application/vnd.databricks.v1+cell": {
          "cellMetadata": {},
          "inputWidgets": {},
          "nuid": "e514c4ba-d7a3-44a0-b27e-ec0fa1a1f956",
          "showTitle": false,
          "title": ""
        },
        "id": "h0Zpx79_aQEC"
      },
      "source": [
        "**Question: Explain why the graph does not exactly represent 2X+1**\n",
        "\n",
        "YOUR ANSWER:\n",
        "\n",
        "The graph generated from the artificial data does not exactly represent the linear function Y=2X+1 due to the inclusion of random noise or variance in the calculations. Here are some key reasons why the plotted points deviate from the perfect line described by the equation."
      ]
    },
    {
      "cell_type": "markdown",
      "metadata": {
        "application/vnd.databricks.v1+cell": {
          "cellMetadata": {},
          "inputWidgets": {},
          "nuid": "fbcfdb93-b0a6-4c93-a0dc-70a1bafe2159",
          "showTitle": false,
          "title": ""
        },
        "id": "W6coKbXSpXOz"
      },
      "source": [
        "## Models for Data (15 points)"
      ]
    },
    {
      "cell_type": "markdown",
      "metadata": {
        "application/vnd.databricks.v1+cell": {
          "cellMetadata": {},
          "inputWidgets": {},
          "nuid": "d3fbc498-94f5-4e30-9985-99b618a0cb9d",
          "showTitle": false,
          "title": ""
        },
        "id": "S8xIBATfPrLf"
      },
      "source": [
        "A model is a function that takes an input $x$ and produces a prediction $\\hat{y}$.\n",
        "\n",
        "Let's consider two possible models for this data:\n",
        "1. $M_1(x) = x+5$\n",
        "2. $M_2(x) = 2x+1$\n",
        "\n",
        "Compute the predictions of models $M_1$ and $M_2$ for the values in $X$. These predictions should be vectors of the same shape as $Y$. Then plot the prediction lines of these two models overlayed on the \"observed\" data $(X, Y)$. Use [plt.plot()](https://matplotlib.org/api/_as_gen/matplotlib.pyplot.plot.html) to draw the lines. Note: you will generate only one plot. Make sure to include axes, titles and legend."
      ]
    },
    {
      "cell_type": "code",
      "execution_count": 32,
      "metadata": {
        "application/vnd.databricks.v1+cell": {
          "cellMetadata": {
            "byteLimit": 2048000,
            "rowLimit": 10000
          },
          "inputWidgets": {},
          "nuid": "75cc5ee4-4ac3-42d9-a935-8871c69e4d60",
          "showTitle": false,
          "title": ""
        },
        "id": "9CCJHNVBPrLf",
        "outputId": "22b63506-d09d-4ab6-a609-3a712f9b49ce",
        "colab": {
          "base_uri": "https://localhost:8080/",
          "height": 576
        }
      },
      "outputs": [
        {
          "output_type": "display_data",
          "data": {
            "text/plain": [
              "<Figure size 1000x600 with 1 Axes>"
            ],
            "image/png": "[encoded data removed]"
          },
          "metadata": {}
        }
      ],
      "source": [
        "def create_1d_data(num_examples=10, m=2, b=1, random_scale=1):\n",
        "    \"\"\"Create X, Y data with a linear relationship with added noise.\"\"\"\n",
        "    X = np.arange(num_examples)\n",
        "    np.random.seed(4)  # consistent random number generation\n",
        "    random_variance = np.random.uniform(low=-random_scale, high=random_scale, size=X.shape)\n",
        "\n",
        "    # Calculate Y using the formula Y = mx + b + random_variance\n",
        "    Y = m * X + b + random_variance\n",
        "\n",
        "    return X, Y\n",
        "\n",
        "# Create some artificial data using create_1d_data.\n",
        "X, Y = create_1d_data()\n",
        "\n",
        "# Define the models\n",
        "def M1(x):\n",
        "    return x + 5\n",
        "\n",
        "def M2(x):\n",
        "    return 2 * x + 1\n",
        "\n",
        "# Compute predictions\n",
        "predictions_M1 = M1(X)\n",
        "predictions_M2 = M2(X)\n",
        "\n",
        "# Plotting\n",
        "plt.figure(figsize=(10, 6))\n",
        "plt.scatter(X, Y, label='Observed Data', color='blue')\n",
        "\n",
        "# Plot the model predictions\n",
        "plt.plot(X, predictions_M1, color='red', label='M1 Model Predictions')\n",
        "plt.plot(X, predictions_M2, color='green', label='M2 Model Predictions')\n",
        "\n",
        "# Add labels and title\n",
        "font1 = {'family': 'serif', 'color': 'blue', 'size': 20}\n",
        "font2 = {'family': 'serif', 'color': 'darkred', 'size': 15}\n",
        "\n",
        "plt.title(\"Comparison of M1 and M2 Models\", fontdict=font1)\n",
        "plt.xlabel(\"X Input Values\", fontdict=font2)\n",
        "plt.ylabel(\"Y Output Values\", fontdict=font2)\n",
        "plt.legend(loc=\"lower right\")\n",
        "\n",
        "plt.grid()\n",
        "plt.show()"
      ]
    },
    {
      "cell_type": "markdown",
      "metadata": {
        "application/vnd.databricks.v1+cell": {
          "cellMetadata": {},
          "inputWidgets": {},
          "nuid": "3d7fdf70-c179-4104-899e-1b5f78005117",
          "showTitle": false,
          "title": ""
        },
        "id": "1tueOGADPrLf"
      },
      "source": [
        "**Question: Explain which model looks to be performing better. How do you know?**\n",
        "\n",
        "YOUR ANSWER:\n",
        "If, upon visual inspection, the green line (representing\n",
        "M2) appears to be closer to most of the observed data points than the red line (representing\n",
        "M1), we can conclude that M2 is performing better. Additionally, if the quantitative metrics also show that\n",
        "M2 has lower error and better variance explanation, it further confirms its superior performance."
      ]
    },
    {
      "cell_type": "markdown",
      "metadata": {
        "application/vnd.databricks.v1+cell": {
          "cellMetadata": {},
          "inputWidgets": {},
          "nuid": "9ec21b35-ff37-4467-92a4-e85e04ec29f2",
          "showTitle": false,
          "title": ""
        },
        "id": "dlhfJuR4PrLg"
      },
      "source": [
        "---"
      ]
    },
    {
      "cell_type": "markdown",
      "metadata": {
        "application/vnd.databricks.v1+cell": {
          "cellMetadata": {},
          "inputWidgets": {},
          "nuid": "324e3a3d-4353-4eca-af90-5650abd09b35",
          "showTitle": false,
          "title": ""
        },
        "id": "bCaI97NoPrLg"
      },
      "source": [
        "## Review\n",
        "\n",
        "* In **Supervised Machine Learning**, we must start with data in the form $(X,Y)$ where $X$ are the inputs and $Y$ are the output labels.\n",
        "* A **model** is a function that maps an input $x$ to an output $y$. The model's output is referred to as a **prediction**, denoted by $\\hat{y}$."
      ]
    },
    {
      "cell_type": "code",
      "execution_count": null,
      "metadata": {
        "application/vnd.databricks.v1+cell": {
          "cellMetadata": {},
          "inputWidgets": {},
          "nuid": "632350e3-12dc-41a5-a3d0-9b7929965985",
          "showTitle": false,
          "title": ""
        },
        "id": "I_L6t-1pPrLg"
      },
      "outputs": [],
      "source": []
    }
  ],
  "metadata": {
    "application/vnd.databricks.v1+notebook": {
      "dashboards": [],
      "environmentMetadata": {
        "base_environment": "",
        "client": "1"
      },
      "language": "python",
      "notebookMetadata": {
        "pythonIndentUnit": 4
      },
      "notebookName": "Assignment 1 - Intro to Python & Pandas",
      "widgets": {}
    },
    "kernelspec": {
      "display_name": "Python 3",
      "language": "python",
      "name": "python3"
    },
    "language_info": {
      "codemirror_mode": {
        "name": "ipython",
        "version": 3
      },
      "file_extension": ".py",
      "mimetype": "text/x-python",
      "name": "python",
      "nbconvert_exporter": "python",
      "pygments_lexer": "ipython3",
      "version": "3.8.8"
    },
    "colab": {
      "provenance": []
    }
  },
  "nbformat": 4,
  "nbformat_minor": 0
}